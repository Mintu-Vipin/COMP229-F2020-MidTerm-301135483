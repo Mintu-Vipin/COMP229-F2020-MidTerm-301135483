{
  "nbformat": 4,
  "nbformat_minor": 0,
  "metadata": {
    "colab": {
      "name": "MintuVipinJoy_COMP258Lab1_Ex2.ipynb",
      "provenance": [],
      "collapsed_sections": [],
      "authorship_tag": "ABX9TyMmzCbMSRWv3uh4N27K76rF",
      "include_colab_link": true
    },
    "kernelspec": {
      "name": "python3",
      "display_name": "Python 3"
    },
    "language_info": {
      "name": "python"
    }
  },
  "cells": [
    {
      "cell_type": "markdown",
      "metadata": {
        "id": "view-in-github",
        "colab_type": "text"
      },
      "source": [
        "<a href=\"https://colab.research.google.com/github/Mintu-Vipin/COMP229-F2020-MidTerm-301135483/blob/master/MintuVipinJoy_COMP258Lab1_Ex2.ipynb\" target=\"_parent\"><img src=\"https://colab.research.google.com/assets/colab-badge.svg\" alt=\"Open In Colab\"/></a>"
      ]
    },
    {
      "cell_type": "markdown",
      "metadata": {
        "id": "St-5Z0SYInpS"
      },
      "source": [
        "** Mintu Vipin Joy(301135483) **"
      ]
    },
    {
      "cell_type": "code",
      "metadata": {
        "id": "j4O8AyS3UPMl"
      },
      "source": [
        "# Load hepatitis data\n",
        "\n",
        "columns = ['Class','AGE','SEX','STEROID','ANTIVIRALS','FATIGUE','MALAISE','ANOREXIA','LIVER BIG', 'LIVER FIRM', 'SPLEEN PALPABLE','SPIDERS','ASCITES','VARICES','BILIRUBIN','ALK PHOSPHATE', 'SGOT','ALBUMIN','PROTIME','HISTOLOGY']\n",
        "hepatitis_data = pd.read_csv('hepatitis.data', names= columns)"
      ],
      "execution_count": null,
      "outputs": []
    },
    {
      "cell_type": "code",
      "metadata": {
        "id": "1BCmuhl0Krwd"
      },
      "source": [
        "hepatitis_data = "
      ],
      "execution_count": null,
      "outputs": []
    },
    {
      "cell_type": "code",
      "metadata": {
        "colab": {
          "base_uri": "https://localhost:8080/",
          "height": 423
        },
        "id": "DmemLyhbX4EM",
        "outputId": "a88118a6-9042-41ac-c60b-a6cc6675f6f5"
      },
      "source": [
        "import pandas as pd\n",
        "import io \n",
        "df = pd. read_csv(io.StringIO(uploaded['hepatitis.csv'].decode('utf-8')), sep = ';')\n",
        "df"
      ],
      "execution_count": null,
      "outputs": [
        {
          "output_type": "execute_result",
          "data": {
            "text/html": [
              "<div>\n",
              "<style scoped>\n",
              "    .dataframe tbody tr th:only-of-type {\n",
              "        vertical-align: middle;\n",
              "    }\n",
              "\n",
              "    .dataframe tbody tr th {\n",
              "        vertical-align: top;\n",
              "    }\n",
              "\n",
              "    .dataframe thead th {\n",
              "        text-align: right;\n",
              "    }\n",
              "</style>\n",
              "<table border=\"1\" class=\"dataframe\">\n",
              "  <thead>\n",
              "    <tr style=\"text-align: right;\">\n",
              "      <th></th>\n",
              "      <th>2,30,2,1,2,2,2,2,1,2,2,2,2,2,1.00,85,18,4.0,?,1</th>\n",
              "    </tr>\n",
              "  </thead>\n",
              "  <tbody>\n",
              "    <tr>\n",
              "      <th>0</th>\n",
              "      <td>2,50,1,1,2,1,2,2,1,2,2,2,2,2,0.90,135,42,3.5,?,1</td>\n",
              "    </tr>\n",
              "    <tr>\n",
              "      <th>1</th>\n",
              "      <td>2,78,1,2,2,1,2,2,2,2,2,2,2,2,0.70,96,32,4.0,?,1</td>\n",
              "    </tr>\n",
              "    <tr>\n",
              "      <th>2</th>\n",
              "      <td>2,31,1,?,1,2,2,2,2,2,2,2,2,2,0.70,46,52,4.0,80,1</td>\n",
              "    </tr>\n",
              "    <tr>\n",
              "      <th>3</th>\n",
              "      <td>2,34,1,2,2,2,2,2,2,2,2,2,2,2,1.00,?,200,4.0,?,1</td>\n",
              "    </tr>\n",
              "    <tr>\n",
              "      <th>4</th>\n",
              "      <td>2,34,1,2,2,2,2,2,2,2,2,2,2,2,0.90,95,28,4.0,75,1</td>\n",
              "    </tr>\n",
              "    <tr>\n",
              "      <th>...</th>\n",
              "      <td>...</td>\n",
              "    </tr>\n",
              "    <tr>\n",
              "      <th>149</th>\n",
              "      <td>1,46,1,2,2,1,1,1,2,2,2,1,1,1,7.60,?,242,3.3,50,2</td>\n",
              "    </tr>\n",
              "    <tr>\n",
              "      <th>150</th>\n",
              "      <td>2,44,1,2,2,1,2,2,2,1,2,2,2,2,0.90,126,142,4.3,?,2</td>\n",
              "    </tr>\n",
              "    <tr>\n",
              "      <th>151</th>\n",
              "      <td>2,61,1,1,2,1,1,2,1,1,2,1,2,2,0.80,75,20,4.1,?,2</td>\n",
              "    </tr>\n",
              "    <tr>\n",
              "      <th>152</th>\n",
              "      <td>2,53,2,1,2,1,2,2,2,2,1,1,2,1,1.50,81,19,4.1,48,2</td>\n",
              "    </tr>\n",
              "    <tr>\n",
              "      <th>153</th>\n",
              "      <td>1,43,1,2,2,1,2,2,2,2,1,1,1,2,1.20,100,19,3.1,42,2</td>\n",
              "    </tr>\n",
              "  </tbody>\n",
              "</table>\n",
              "<p>154 rows × 1 columns</p>\n",
              "</div>"
            ],
            "text/plain": [
              "       2,30,2,1,2,2,2,2,1,2,2,2,2,2,1.00,85,18,4.0,?,1\n",
              "0     2,50,1,1,2,1,2,2,1,2,2,2,2,2,0.90,135,42,3.5,?,1\n",
              "1      2,78,1,2,2,1,2,2,2,2,2,2,2,2,0.70,96,32,4.0,?,1\n",
              "2     2,31,1,?,1,2,2,2,2,2,2,2,2,2,0.70,46,52,4.0,80,1\n",
              "3      2,34,1,2,2,2,2,2,2,2,2,2,2,2,1.00,?,200,4.0,?,1\n",
              "4     2,34,1,2,2,2,2,2,2,2,2,2,2,2,0.90,95,28,4.0,75,1\n",
              "..                                                 ...\n",
              "149   1,46,1,2,2,1,1,1,2,2,2,1,1,1,7.60,?,242,3.3,50,2\n",
              "150  2,44,1,2,2,1,2,2,2,1,2,2,2,2,0.90,126,142,4.3,?,2\n",
              "151    2,61,1,1,2,1,1,2,1,1,2,1,2,2,0.80,75,20,4.1,?,2\n",
              "152   2,53,2,1,2,1,2,2,2,2,1,1,2,1,1.50,81,19,4.1,48,2\n",
              "153  1,43,1,2,2,1,2,2,2,2,1,1,1,2,1.20,100,19,3.1,42,2\n",
              "\n",
              "[154 rows x 1 columns]"
            ]
          },
          "metadata": {},
          "execution_count": 4
        }
      ]
    }
  ]
}